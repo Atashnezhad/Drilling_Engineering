{
 "cells": [
  {
   "cell_type": "code",
   "execution_count": 1,
   "metadata": {},
   "outputs": [],
   "source": [
    "import math\n",
    "import time\n",
    "import numpy as np\n",
    "import pandas as pd\n",
    "import matplotlib\n",
    "import matplotlib.pyplot as plt\n",
    "import concurrent.futures"
   ]
  },
  {
   "cell_type": "code",
   "execution_count": 2,
   "metadata": {},
   "outputs": [
    {
     "name": "stdout",
     "output_type": "stream",
     "text": [
      "3.7.3\n"
     ]
    }
   ],
   "source": [
    "from platform import python_version\n",
    "print(python_version())"
   ]
  },
  {
   "cell_type": "code",
   "execution_count": 3,
   "metadata": {},
   "outputs": [],
   "source": [
    "class cutter:\n",
    "    \n",
    "    def __init__(self, BR, Vc, UCS, Dc, Aw, cutter_DOC_data_list, cutter_IFA_data_list, cutter_Fn_data, cutter_Fd_data):\n",
    "        self.BR = BR # cutter back rake angle\n",
    "        self.Vc = Vc # cutter velocity\n",
    "        self.DOC_data = cutter_DOC_data_list # list of cutter depth of cut (data)\n",
    "        self.IFA_data = cutter_IFA_data_list # list of cutter IFA values (data)\n",
    "        self.VN = Vc / 2.1 # normalized cutter velocity\n",
    "        self.UCS = UCS # rock unconfined compressive strength\n",
    "        self.UCSN = UCS / 5000 # normalized rock unconfined compressive strength\n",
    "        self.Dc = Dc # cutter diameter\n",
    "        self.Rc = Dc/2 # cutter radius\n",
    "        self.Aw = Aw # wearflat area sq-inch\n",
    "        self.Fn_data = cutter_Fn_data # cutter normal force. for blunt cutter case.\n",
    "        self.Fd_data = cutter_Fd_data # cutter drag force. for blunt cutter case.\n",
    "        \n",
    "    def Model_IFA(self, DOC,w):\n",
    "        #A model for IFA calculation. it takes DOC,\n",
    "        #normalized cutter velocity, normalized rock \n",
    "        #UCS and cutter back rake and returns the IFA.\n",
    "        DOCn = DOC / self.Dc # normalize DOC \n",
    "        C1 = w[0] + (w[1])/((self.VN)**w[2] + w[3])\n",
    "        C2 = w[4] + (w[5])/((self.VN)**w[6]+ w[7])\n",
    "        C_P = w[8]\n",
    "        C3 = w[9] + w[10]/((self.UCSN**w[11])+w[12])\n",
    "        return (C1+C2/((DOCn**C_P)+C3))-self.BR\n",
    "    \n",
    "    \n",
    "    '''def Model_IFA(self, DOC,w):\n",
    "        #A model for IFA calculation. it takes DOC,\n",
    "        #normalized cutter velocity, normalized rock \n",
    "        #UCS and cutter back rake and returns the IFA.\n",
    "        DOCn = DOC / self.Dc # normalize DOC \n",
    "        IFA = w[0]*(self.UCSN**w[1])*(self.VN**w[2])*DOCn\n",
    "        return (IFA-self.BR)'''\n",
    "    \n",
    "    \n",
    "    \n",
    "    \n",
    "    \n",
    "    def Find_L(self):\n",
    "        '''A function that search for L on cutter face.\n",
    "        Applicable to blunt cutter.'''\n",
    "        diff = 10\n",
    "        L = 0\n",
    "        while diff > 0.0001:\n",
    "            L += 0.00001\n",
    "            A_segment_esti = ((self.Rc)**2*math.acos((self.Rc-L)/self.Rc)\\\n",
    "                       -(self.Rc-L)*((self.Dc*L-(L)**2)**0.5))\n",
    "            diff = abs(self.Aw_on_cutter_face-A_segment_esti)\n",
    "        return L\n",
    "    \n",
    "    def Calculate_fitness(self, w):\n",
    "        \n",
    "        if self.Aw == 0:\n",
    "            \n",
    "            self.IFA_using_Model = [self.Model_IFA(DOC,w) for DOC in self.DOC_data]\n",
    "            self.ABS_Error = sum([abs((i-j)/i) for i,j in zip(self.IFA_data,self.IFA_using_Model)])/len(self.DOC_data)\n",
    "            \n",
    "        else:\n",
    "                        \n",
    "            self.Fn_Fd_list = [i / j for i, j in zip(self.Fn_data, self.Fd_data)] # cutter normal to drag force ratio\n",
    "            self.IFA_list_DD_Model = [((math.atan(Fn_Fd)*180)/math.pi-self.BR) for Fn_Fd in self.Fn_Fd_list] # calculated IFA list\n",
    "            self.IFA_list_with_Model = [self.Model_IFA(DOC,w) for DOC in self.DOC_data]\n",
    "            self.Aw_on_cutter_face = self.Aw*math.cos(math.radians((90-self.BR)))\n",
    "            self.L_list = [(DOC/math.cos(math.radians(self.BR))) for DOC in self.DOC_data] # DOC projected length on cutter face\n",
    "            self.L_worn = self.Find_L() # single value\n",
    "            self.Total_L = [(self.L_worn + L) for L in self.L_list] # total L, summation \n",
    "            self.A_total_segment = [((self.Rc)**2*math.acos((self.Rc-L)/self.Rc)-(self.Rc-L)*((self.Dc*L-(L)**2)**0.5)) for L in self.Total_L]\n",
    "            self.A_real_contact_list = [(a-self.Aw_on_cutter_face) for a in self.A_total_segment]\n",
    "            #============================================================================================\n",
    "            self.A_F_list_without_IFA = [(A_contact*math.cos(math.radians(self.BR))) for A_contact in self.A_real_contact_list] \n",
    "            self.F_d_without_IFA = [A_F * self.UCS for A_F in self.A_F_list_without_IFA]\n",
    "            self.A_F_list_with_IFA = [(A_contact*math.cos(math.radians(IFA+self.BR))) for IFA, A_contact in zip(self.IFA_list_with_Model, self.A_real_contact_list)] \n",
    "            self.F_d_with_IFA = [A_F * self.UCS for A_F in self.A_F_list_with_IFA]\n",
    "            self.A_B_list_without_IFA = [(A_contact*math.sin(math.radians(self.BR))) for A_contact in self.A_real_contact_list] \n",
    "            self.F_n_without_IFA = [A_B * self.UCS for A_B in self.A_B_list_without_IFA]\n",
    "            self.A_B_list_with_IFA = [(A_contact*math.sin(math.radians(IFA+self.BR))) for IFA, A_contact in zip(self.IFA_list_with_Model, self.A_real_contact_list)] \n",
    "            self.F_n_with_IFA = [A_B * self.UCS for A_B in self.A_B_list_with_IFA]\n",
    "            #============================================================================================\n",
    "            miu = 0.6 # internal friction coefficient for SWG\n",
    "            self.F_n_with_IFA_miu = [Fn + self.Aw*self.UCS for Fn in self.F_n_with_IFA]\n",
    "            self.F_d_with_IFA_miu = [Fd+(self.Aw*self.UCS*miu) for Fd in self.F_d_with_IFA]\n",
    "            #============================================================================================\n",
    "            self.ABS_Error_Fn = sum([abs((i-j)/j) for i,j in zip(self.F_n_with_IFA_miu, self.Fn_data)])/len(self.DOC_data)\n",
    "            self.ABS_Error_Fd = sum([abs((i-j)/j) for i,j in zip(self.F_d_with_IFA_miu, self.Fd_data)])/len(self.DOC_data)\n",
    "            self.ABS_Error = self.ABS_Error_Fn + self.ABS_Error_Fd\n",
    "        return (self.ABS_Error)   "
   ]
  },
  {
   "cell_type": "markdown",
   "metadata": {},
   "source": [
    "### Data for Case1: UCS = 3000 psi, Vc = 2.1 in/sec, BR = 20, Dc = 0.5\""
   ]
  },
  {
   "cell_type": "code",
   "execution_count": 4,
   "metadata": {},
   "outputs": [],
   "source": [
    "'''case1_DOC_data = [0.001,0.005,0.01,0.015,0.02,0.025,0.03,0.035,0.04,0.045,0.05,0.055\\\n",
    "                ,0.06,0.065,0.07,0.075,0.08,0.085,0.09,0.095,0.1,0.105,0.11,0.115,0.12]\n",
    "case1_IFA_data = [10,10,10,10,10,10,10,10,10,10,10,10,10,\\\n",
    "                         10,10,10,10,10,10,10,10,10,10,10,10]'''\n",
    "\n",
    "case1_DOC_data = [0.03,0.035,0.04,0.045,0.05,0.055\\\n",
    "                ,0.06,0.065,0.07,0.075,0.08,0.085,0.09,0.095,0.1,0.105,0.11,0.115,0.12]\n",
    "case1_IFA_data = [10,10,10,10,10,10,10,\\\n",
    "                         10,10,10,10,10,10,10,10,10,10,10,10]\n",
    "\n",
    "\n",
    "case1_Fn_data = 0\n",
    "case1_Fd_data = 0\n",
    "\n",
    "#'(BR, Vc, UCS, Dc, Aw, cutter_DOC_data_list, cutter_IFA_data_list, cutter_Fn_data, cutter_Fd_data)'\n",
    "case1 = cutter(20, 2.1, 3000, 0.5, 0, case1_DOC_data, case1_IFA_data, case1_Fn_data, case1_Fd_data)\n",
    "#print('Case1 details',case1.__dict__)"
   ]
  },
  {
   "cell_type": "markdown",
   "metadata": {},
   "source": [
    "### Data for Case2: UCS = 7100 psi, Vc = 2.1 in/sec, BR = 20, Dc = 0.5\""
   ]
  },
  {
   "cell_type": "code",
   "execution_count": 5,
   "metadata": {},
   "outputs": [],
   "source": [
    "'''case2_DOC_data = [0.001,0.005,0.01,0.015,0.02,0.025,0.03,0.035,0.04,0.045,0.05,0.055\\\n",
    "                ,0.06,0.065,0.07,0.075,0.08,0.085,0.09,0.095,0.1,0.105,0.11,0.115,0.12]\n",
    "case2_IFA_data = [20,20,20,20,20,20,20,20,20,20,20,20,20,20,\\\n",
    "                         20,20,20,20,20,20,20,20,20,20,20]'''\n",
    "\n",
    "case2_DOC_data = [0.03,0.035,0.04,0.045,0.05,0.055\\\n",
    "                ,0.06,0.065,0.07,0.075,0.08,0.085,0.09,0.095,0.1,0.105,0.11,0.115,0.12]\n",
    "case2_IFA_data = [20,20,20,20,20,20,20,20,\\\n",
    "                         20,20,20,20,20,20,20,20,20,20,20]\n",
    "\n",
    "\n",
    "case2_Fn_data = 0\n",
    "case2_Fd_data = 0\n",
    "\n",
    "#'(BR, Vc, UCS, Dc, Aw, cutter_DOC_data_list, cutter_IFA_data_list, cutter_Fn_data, cutter_Fd_data)'\n",
    "case2 = cutter(20, 2.1, 7100, 0.5, 0, case2_DOC_data, case2_IFA_data, case2_Fn_data, case2_Fd_data)\n",
    "#print('Case2 details',case2.__dict__)"
   ]
  },
  {
   "cell_type": "markdown",
   "metadata": {},
   "source": [
    "### Data for Case3: UCS = 21500 psi, Vc = 2.1 in/sec, BR = 20, Dc = 0.5\""
   ]
  },
  {
   "cell_type": "code",
   "execution_count": 6,
   "metadata": {},
   "outputs": [],
   "source": [
    "'''case3_DOC_data = [0.001,0.005,0.01,0.015,0.02,0.025,0.03,0.035,0.04,0.045,0.05,0.055\\\n",
    "                ,0.06,0.065,0.07,0.075,0.08,0.085,0.09,0.095,0.1,0.105,0.11,0.115,0.12]\n",
    "case3_IFA_data = [62.49,44.78,38.80,35.67,33.61,32.09,30.90,29.93,29.12,28.42,27.80,\\\n",
    "                         27.26,26.77,26.33,25.93,25.57,25.23,24.91,24.62,24.34,24.09,23.85,\\\n",
    "                         23.62,23.40,23.20]'''\n",
    "\n",
    "case3_DOC_data = [0.03,0.035,0.04,0.045,0.05,0.055\\\n",
    "                ,0.06,0.065,0.07,0.075,0.08,0.085,0.09,0.095,0.1,0.105,0.11,0.115,0.12]\n",
    "case3_IFA_data = [30.90,29.93,29.12,28.42,27.80,\\\n",
    "                         27.26,26.77,26.33,25.93,25.57,25.23,24.91,24.62,24.34,24.09,23.85,\\\n",
    "                         23.62,23.40,23.20]\n",
    "\n",
    "\n",
    "case3_Fn_data = 0\n",
    "case3_Fd_data = 0\n",
    "\n",
    "#'(BR, Vc, UCS, Dc, Aw, cutter_DOC_data_list, cutter_IFA_data_list, cutter_Fn_data, cutter_Fd_data)'\n",
    "case3 = cutter(20, 2.1, 21500, 0.5, 0, case3_DOC_data, case3_IFA_data, case3_Fn_data, case3_Fd_data)\n",
    "#print('Case3 details',case3.__dict__)"
   ]
  },
  {
   "cell_type": "markdown",
   "metadata": {},
   "source": [
    "### Data for Case4: UCS = 19400 psi, Vc = 177 in/sec, BR = 5, Dc = 0.5\""
   ]
  },
  {
   "cell_type": "code",
   "execution_count": 7,
   "metadata": {},
   "outputs": [],
   "source": [
    "'''case4_DOC_data = [0.001,0.005,0.01,0.015,0.02,0.025,0.03,0.035,0.04,0.045,0.05,0.055\\\n",
    "                ,0.06,0.065,0.07,0.075,0.08,0.085,0.09,0.095,0.1,0.105,0.11,0.115,0.12]\n",
    "case4_IFA_data = [107.23,89.83,83.24,79.61,77.13,75.26,73.76,72.52,71.47,70.55,\\\n",
    "                         69.73,69.01,68.35,67.75,67.20,66.69,66.22,65.78,65.37,\\\n",
    "                         64.98,64.61,64.27,63.94,63.63,63.33]'''\n",
    "\n",
    "case4_DOC_data = [0.03,0.035,0.04,0.045,0.05,0.055\\\n",
    "                ,0.06,0.065,0.07,0.075,0.08,0.085,0.09,0.095,0.1,0.105,0.11,0.115,0.12]\n",
    "case4_IFA_data = [73.76,72.52,71.47,70.55,\\\n",
    "                         69.73,69.01,68.35,67.75,67.20,66.69,66.22,65.78,65.37,\\\n",
    "                         64.98,64.61,64.27,63.94,63.63,63.33]\n",
    "\n",
    "\n",
    "case4_Fn_data = 0\n",
    "case4_Fd_data = 0\n",
    "\n",
    "#'(BR, Vc, UCS, Dc, Aw, cutter_DOC_data_list, cutter_IFA_data_list, cutter_Fn_data, cutter_Fd_data)'\n",
    "case4 = cutter(20, 177, 19400, 0.5, 0, case4_DOC_data, case4_IFA_data, case4_Fn_data, case4_Fd_data)\n",
    "#print('Case4 details',case4.__dict__)"
   ]
  },
  {
   "cell_type": "markdown",
   "metadata": {},
   "source": [
    "### Data for Case5: UCS = 19400 psi, Vc = 177 in/sec, BR = 10, Dc = 0.5\""
   ]
  },
  {
   "cell_type": "code",
   "execution_count": 8,
   "metadata": {},
   "outputs": [],
   "source": [
    "'''case5_DOC_data = [0.001,0.005,0.01,0.015,0.02,0.025,0.03,0.035,0.04,0.045,0.05,0.055\\\n",
    "                ,0.06,0.065,0.07,0.075,0.08,0.085,0.09,0.095,0.1,0.105,0.11,0.115,0.12]\n",
    "case5_IFA_data = [91.54,79.45,74.75,72.13,70.33,68.96,67.86,66.95,\\\n",
    "                         66.16,65.48,64.88,64.34,63.84,63.40,62.98,62.60,\\\n",
    "                         62.25,61.92,61.61,61.31,61.04,60.78,60.53,60.29,60.07]'''\n",
    "\n",
    "case5_DOC_data = [0.03,0.035,0.04,0.045,0.05,0.055\\\n",
    "                ,0.06,0.065,0.07,0.075,0.08,0.085,0.09,0.095,0.1,0.105,0.11,0.115,0.12]\n",
    "case5_IFA_data = [67.86,66.95,\\\n",
    "                         66.16,65.48,64.88,64.34,63.84,63.40,62.98,62.60,\\\n",
    "                         62.25,61.92,61.61,61.31,61.04,60.78,60.53,60.29,60.07]\n",
    "\n",
    "\n",
    "case5_Fn_data = 0\n",
    "case5_Fd_data = 0\n",
    "\n",
    "#'(BR, Vc, UCS, Dc, Aw, cutter_DOC_data_list, cutter_IFA_data_list, cutter_Fn_data, cutter_Fd_data)'\n",
    "case5 = cutter(10, 177, 19400, 0.5, 0, case5_DOC_data, case5_IFA_data, case5_Fn_data, case5_Fd_data)\n",
    "#print('Case5 details',case5.__dict__)"
   ]
  },
  {
   "cell_type": "markdown",
   "metadata": {},
   "source": [
    "### Data for Case6: UCS = 19400 psi, Vc = 177 in/sec, BR = 15, Dc = 0.5\""
   ]
  },
  {
   "cell_type": "code",
   "execution_count": 9,
   "metadata": {},
   "outputs": [],
   "source": [
    "'''case6_DOC_data = [0.001,0.005,0.01,0.015,0.02,0.025,0.03,0.035,0.04,0.045,0.05,0.055\\\n",
    "                ,0.06,0.065,0.07,0.075,0.08,0.085,0.09,0.095,0.1,0.105,0.11,0.115,0.12]\n",
    "case6_IFA_data = [91.14,77.21,71.89,68.95,66.94,65.42,64.20,63.19,\\\n",
    "                         62.33,61.58,60.91,60.32,59.78,59.29,58.84,58.42,\\\n",
    "                         58.03,57.67,57.33,57.01,56.71,56.43,56.16,55.90,55.66]'''\n",
    "\n",
    "case6_DOC_data = [0.03,0.035,0.04,0.045,0.05,0.055\\\n",
    "                ,0.06,0.065,0.07,0.075,0.08,0.085,0.09,0.095,0.1,0.105,0.11,0.115,0.12]\n",
    "case6_IFA_data = [64.20,63.19,\\\n",
    "                         62.33,61.58,60.91,60.32,59.78,59.29,58.84,58.42,\\\n",
    "                         58.03,57.67,57.33,57.01,56.71,56.43,56.16,55.90,55.66]\n",
    "\n",
    "\n",
    "case6_Fn_data = 0\n",
    "case6_Fd_data = 0\n",
    "\n",
    "#'(BR, Vc, UCS, Dc, Aw, cutter_DOC_data_list, cutter_IFA_data_list, cutter_Fn_data, cutter_Fd_data)'\n",
    "case6 = cutter(15, 177, 19400, 0.5, 0, case6_DOC_data, case6_IFA_data, case6_Fn_data, case6_Fd_data)\n",
    "#print('Case6 details',case6.__dict__)"
   ]
  },
  {
   "cell_type": "markdown",
   "metadata": {},
   "source": [
    "### Data for Case7: UCS = 19400 psi, Vc = 177 in/sec, BR = 20, Dc = 0.5\""
   ]
  },
  {
   "cell_type": "code",
   "execution_count": 10,
   "metadata": {},
   "outputs": [],
   "source": [
    "'''case7_DOC_data = [0.001,0.005,0.01,0.015,0.02,0.025,0.03,0.035,0.04,0.045,0.05,0.055\\\n",
    "                ,0.06,0.065,0.07,0.075,0.08,0.085,0.09,0.095,0.1,0.105,0.11,0.115,0.12]\n",
    "case7_IFA_data = [82.65,70.59,65.96,63.39,61.63,60.29,59.22,58.34,\\\n",
    "                         57.58,56.92,56.33,55.81,55.34,54.90,54.51,54.14,\\\n",
    "                         53.80,53.48,53.18,52.90,52.63,52.38,52.14,51.92,51.70]'''\n",
    "\n",
    "case7_DOC_data = [0.03,0.035,0.04,0.045,0.05,0.055\\\n",
    "                ,0.06,0.065,0.07,0.075,0.08,0.085,0.09,0.095,0.1,0.105,0.11,0.115,0.12]\n",
    "case7_IFA_data = [59.22,58.34,\\\n",
    "                         57.58,56.92,56.33,55.81,55.34,54.90,54.51,54.14,\\\n",
    "                         53.80,53.48,53.18,52.90,52.63,52.38,52.14,51.92,51.70]\n",
    "\n",
    "\n",
    "case7_Fn_data = 0\n",
    "case7_Fd_data = 0\n",
    "\n",
    "#'(BR, Vc, UCS, Dc, Aw, cutter_DOC_data_list, cutter_IFA_data_list, cutter_Fn_data, cutter_Fd_data)'\n",
    "case7 = cutter(20, 177, 19400, 0.5, 0, case7_DOC_data, case7_IFA_data, case7_Fn_data, case7_Fd_data)\n",
    "#print('Case7 details',case7.__dict__)"
   ]
  },
  {
   "cell_type": "markdown",
   "metadata": {},
   "source": [
    "### Data for Case8: UCS = 19400 psi, Vc = 177 in/sec, BR = 25, Dc = 0.5\""
   ]
  },
  {
   "cell_type": "code",
   "execution_count": 11,
   "metadata": {},
   "outputs": [],
   "source": [
    "'''case8_DOC_data = [0.001,0.005,0.01,0.015,0.02,0.025,0.03,0.035,0.04,0.045,0.05,0.055\\\n",
    "                ,0.06,0.065,0.07,0.075,0.08,0.085,0.09,0.095,0.1,0.105,0.11,0.115,0.12]\n",
    "case8_IFA_data = [99.48,77.14,69.14,64.85,61.97,59.82,58.12,56.72,\\\n",
    "                         55.54,54.51,53.61,52.81,52.09,51.44,50.84,50.29,\\\n",
    "                         49.78,49.30,48.86,48.44,48.05,47.68,47.33,47.00,46.69]'''\n",
    "\n",
    "case8_DOC_data = [0.03,0.035,0.04,0.045,0.05,0.055\\\n",
    "                ,0.06,0.065,0.07,0.075,0.08,0.085,0.09,0.095,0.1,0.105,0.11,0.115,0.12]\n",
    "case8_IFA_data = [58.12,56.72,\\\n",
    "                         55.54,54.51,53.61,52.81,52.09,51.44,50.84,50.29,\\\n",
    "                         49.78,49.30,48.86,48.44,48.05,47.68,47.33,47.00,46.69]\n",
    "\n",
    "\n",
    "case8_Fn_data = 0\n",
    "case8_Fd_data = 0\n",
    "\n",
    "#'(BR, Vc, UCS, Dc, Aw, cutter_DOC_data_list, cutter_IFA_data_list, cutter_Fn_data, cutter_Fd_data)'\n",
    "case8 = cutter(25, 177, 19400, 0.5, 0, case8_DOC_data, case8_IFA_data, case8_Fn_data, case8_Fd_data)\n",
    "#print('Case8 details',case8.__dict__)"
   ]
  },
  {
   "cell_type": "markdown",
   "metadata": {},
   "source": [
    "### Data for Case9: UCS = 19400 psi, Vc = 177 in/sec, BR = 30, Dc = 0.5\""
   ]
  },
  {
   "cell_type": "code",
   "execution_count": 12,
   "metadata": {},
   "outputs": [],
   "source": [
    "'''case9_DOC_data = [0.001,0.005,0.01,0.015,0.02,0.025,0.03,0.035,0.04,0.045,0.05,0.055\\\n",
    "                ,0.06,0.065,0.07,0.075,0.08,0.085,0.09,0.095,0.1,0.105,0.11,0.115,0.12]\n",
    "case9_IFA_data = [76.83,62.32,56.95,54.03,52.04,50.56,49.37,48.39,\\\n",
    "                         47.56,46.84,46.20,45.63,45.12,44.65,44.22,43.83,\\\n",
    "                         43.46,43.12,42.80,42.50,42.22,41.95,41.70,41.46,41.23]'''\n",
    "\n",
    "case9_DOC_data = [0.03,0.035,0.04,0.045,0.05,0.055\\\n",
    "                ,0.06,0.065,0.07,0.075,0.08,0.085,0.09,0.095,0.1,0.105,0.11,0.115,0.12]\n",
    "case9_IFA_data = [49.37,48.39,\\\n",
    "                         47.56,46.84,46.20,45.63,45.12,44.65,44.22,43.83,\\\n",
    "                         43.46,43.12,42.80,42.50,42.22,41.95,41.70,41.46,41.23]\n",
    "\n",
    "\n",
    "case9_Fn_data = 0\n",
    "case9_Fd_data = 0\n",
    "\n",
    "#'(BR, Vc, UCS, Dc, Aw, cutter_DOC_data_list, cutter_IFA_data_list, cutter_Fn_data, cutter_Fd_data)'\n",
    "case9 = cutter(30, 177, 19400, 0.5, 0, case9_DOC_data, case9_IFA_data, case9_Fn_data, case9_Fd_data)\n",
    "#print('Case9 details',case9.__dict__)"
   ]
  },
  {
   "cell_type": "markdown",
   "metadata": {},
   "source": [
    "### Data for Case10: UCS = 21500 psi, Vc = 2.1 in/sec, BR = 20 , Dc = 0.75\", Aw = 0.02 sq-inch"
   ]
  },
  {
   "cell_type": "code",
   "execution_count": 13,
   "metadata": {},
   "outputs": [],
   "source": [
    "case10_DOC_data = [0.023,0.023,0.023,0.023,0.024,0.024,0.024,0.024,0.039,0.04,\\\n",
    "                0.04,0.04,0.041,0.041,0.041,0.042,0.042,0.042,0.042,0.042,\\\n",
    "                0.042,0.042,0.079,0.079,0.079,0.079,0.08]\n",
    "case10_IFA_data = 0\n",
    "case10_Fn_data = [545,568,599,590,610,617,640,619,657,689,699,756,669,676,698,\\\n",
    "               770,770,739,763,741,774,760,855,865,926,918,875]\n",
    "case10_Fd_data = [360,387,392,396,401,412,418,416,461,475,476,517,466,473,481,\\\n",
    "               511,540,518,526,504,522,519,694,694,722,750,710]\n",
    "\n",
    "#'(BR, Vc, UCS, Dc, Aw, cutter_DOC_data_list, cutter_IFA_data_list, cutter_Fn_data, cutter_Fd_data)'\n",
    "case10 = cutter(20, 2.1, 21500, 0.75, 0.02, case10_DOC_data, case10_IFA_data, case10_Fn_data, case10_Fd_data)\n",
    "#print('Case10 details',case10.__dict__)"
   ]
  },
  {
   "cell_type": "code",
   "execution_count": 14,
   "metadata": {},
   "outputs": [],
   "source": [
    "class Full_bit:\n",
    "    \n",
    "    def __init__(self, ROP_constant, Data_WOB, Data_ROP, Db, RPM, UCS, NOC, BR, Dc):\n",
    "        self.ROPcons = ROP_constant\n",
    "        self.Data_WOB = Data_WOB\n",
    "        self.Data_ROP = Data_ROP\n",
    "        self.Db = Db\n",
    "        self.RPM = RPM\n",
    "        self.UCS = UCS\n",
    "        self.NOC = NOC\n",
    "        self.BR = BR\n",
    "        self.Dc = Dc\n",
    "                \n",
    "        self.Ac = math.pi*self.Dc**2 / 4 # cutter face area sq-inch\n",
    "        self.Re = self.Db/(2*(2**0.5)) # calculate the equivalent radius\n",
    "        self.Number_of_DataPoints = len(self.Data_WOB)\n",
    "        self.WOC = [self.Data_WOB[i]/self.NOC for i in range(0,self.Number_of_DataPoints)] # calculate the weight on cutter\n",
    "        self.A_bit = (math.pi*(self.Db**2))/4 # bit area\n",
    "        self.AB = [WOC/self.UCS for WOC in self.WOC ] # calculate the cutter beanth area\n",
    "        self.AB = [(self.Ac*math.sin(self.BR)) if x > (self.Ac*math.sin(self.BR)) else x for x in self.AB] # filter those values that are greater than availabe cutter beanth area\n",
    "        self.UCSN = self.UCS/5000 # calculate the normalized UCS\n",
    "        self.V_Cutter_Equivalent = 2*math.pi*self.Re*self.RPM/60 # calculate equivalent velocity\n",
    "        self.VN = self.V_Cutter_Equivalent/2.1 # normalize the equivalent velocity\n",
    "        \n",
    "        \n",
    "    def A_Front(self, AB, IFA):\n",
    "        '''A function that takes the cutter beneath area,\n",
    "        back rake and IFA and returns the cutter front area.'''\n",
    "        return AB/math.tan(math.radians(self.BR+IFA))\n",
    "\n",
    "\n",
    "    def ROP_model(self, AF):\n",
    "        '''A ROP model (function). A function that takes number of cutters (NOC),\n",
    "        bit equivalent radius (Re), cutter front area (AF), cutter back rake (BR),\n",
    "        interfacial friction angle (IFA), revolutions per minute (RPM), and bit area (A_bit).'''\n",
    "        return ((2*self.NOC*math.pi*self.Re*AF*self.RPM)/(self.A_bit))*5\n",
    "        \n",
    "        \n",
    "    def Model_IFA(self, DOC, w):\n",
    "        #A model for IFA calculation. it takes DOC,\n",
    "        #normalized cutter velocity, normalized rock \n",
    "        #UCS and cutter back rake and returns the IFA.\n",
    "        \n",
    "        DOCn = DOC / self.Dc # normalize DOC\n",
    "        C1 = w[0] + (w[1])/((self.VN)**w[2] + w[3])\n",
    "        C2 = w[4] + (w[5])/((self.VN)**w[6]+ w[7])\n",
    "        C_P = w[8]\n",
    "        C3 = w[9]+w[10]/((self.UCSN**w[11])+w[12])\n",
    "        \n",
    "        return (C1+C2/((DOCn**C_P)+C3))-self.BR  \n",
    "    \n",
    "    \n",
    "    '''def Model_IFA(self, DOC,w):\n",
    "        #A model for IFA calculation. it takes DOC,\n",
    "        #normalized cutter velocity, normalized rock \n",
    "        #UCS and cutter back rake and returns the IFA.\n",
    "        DOCn = DOC / self.Dc # normalize DOC \n",
    "        IFA = w[0]*(self.UCSN**w[1])*(self.VN**w[2])*DOCn\n",
    "        return (IFA-self.BR)'''\n",
    "    \n",
    "    def Find_IFA(self, AB, maxvalue, w):\n",
    "        #A function that finds the best IFA value that satisfy \n",
    "        #both the ROP DOC and developed Model-IFA\n",
    "        diff1 = 1000000000000000 # initite it with a big value\n",
    "        Number_of_random_attempts = 10000\n",
    "        IFA_search = 0\n",
    "\n",
    "        while diff1 > 0.0001 and IFA_search < maxvalue:\n",
    "\n",
    "            IFA_search = IFA_search + 0.1\n",
    "            AF = self.A_Front(AB,IFA_search) #calculate the cutter front area\n",
    "            ROP = self.ROP_model(AF) # calculate the ROP\n",
    "            DOC = ROP/(self.RPM*5) # calculate the depth of cut\n",
    "            IFA = self.Model_IFA(DOC, w)\n",
    "\n",
    "            diff2 = abs(IFA_search - IFA)\n",
    "            \n",
    "            if diff2 < diff1:\n",
    "                diff1 = diff2\n",
    "                self.Best_IFA = IFA_search\n",
    "\n",
    "        return self.Best_IFA, diff1\n",
    "    \n",
    "    \n",
    "    \n",
    "    def Calculate_ROP(self, AB, maxvalue, w):\n",
    "        ''' A function that takes the cutter beneath\n",
    "        area and returns the ROP estimated'''\n",
    "        IFA, diff = self.Find_IFA(AB, maxvalue, w)\n",
    "        AF = self.A_Front(AB,IFA)\n",
    "        Estimated_ROP = self.ROPcons * self.ROP_model(AF)\n",
    "        return Estimated_ROP, IFA, diff\n",
    "    \n",
    "    def Calculate_fitness(self, w):\n",
    "        \n",
    "        #===========================================================================================================\n",
    "        #ROP calculation\n",
    "        self.ROP_Model_esti_list = []\n",
    "        self.IFAlist = []\n",
    "        self.difflist = []\n",
    "        self.maxvalue = 90 - self.BR\n",
    "    \n",
    "        for i in range(0,self.Number_of_DataPoints):\n",
    "            self.ROP_Model_esti, IFA, diff = self.Calculate_ROP(self.AB[i], self.maxvalue, w)\n",
    "            self.ROP_Model_esti_list.append(self.ROP_Model_esti)\n",
    "            self.difflist.append(diff)\n",
    "            self.maxvalue = IFA # make sure descending trend for IFA vs DOC\n",
    "            self.IFAlist.append(IFA)\n",
    "        #===========================================================================================================    \n",
    "        self.error_ROP_list = [abs((ROP_Model - Data_ROP)/Data_ROP) for ROP_Model, Data_ROP in zip(self.ROP_Model_esti_list,self.Data_ROP)]\n",
    "        self.error_ROP = sum(self.error_ROP_list)/len(self.Data_WOB)\n",
    "        return self.error_ROP"
   ]
  },
  {
   "cell_type": "markdown",
   "metadata": {},
   "source": [
    "### Data for case1_FullBit = error function_SWG_4B_100"
   ]
  },
  {
   "cell_type": "code",
   "execution_count": 15,
   "metadata": {},
   "outputs": [],
   "source": [
    "'''Data_WOB = [2300,2420,2660,2910,3180,3410,3660,3940,4170] # insert the WOB data into the list\n",
    "Data_ROP = [9.9,11,14.7,18.1,22.6,27.2,31.1,36.5,39.4] # insert the ROP data into the list'''\n",
    "Data_WOB = [2660,2910,3180,3410,3660,3940,4170] # insert the WOB data into the list\n",
    "Data_ROP = [14.7,18.1,22.6,27.2,31.1,36.5,39.4] # insert the ROP data into the list\n",
    "\n",
    "\n",
    "#'(ROP_constant, Data_WOB, Data_ROP, Db, RPM, UCS, NOC, BR, Dc)'\n",
    "case1_FullBit = Full_bit(0.9, Data_WOB, Data_ROP, 3.75, 100, 21500, 12, 20, 0.5)\n",
    "#case1_FullBit.Calculate_fitness(w)"
   ]
  },
  {
   "cell_type": "markdown",
   "metadata": {},
   "source": [
    "### Data for case2_FullBit = error function_SWG_4B_150"
   ]
  },
  {
   "cell_type": "code",
   "execution_count": 16,
   "metadata": {},
   "outputs": [],
   "source": [
    "'''Data_WOB = [2150,2300,2560,2810,3060,3290,3540,3820,4070] # insert the WOB data into the list\n",
    "Data_ROP = [10.2,11.9,15.1,19.6,25.6,31.4,37.7,44.3,50.8] # insert the ROP data into the list'''\n",
    "Data_WOB = [2810,3060,3290,3540,3820,4070] # insert the WOB data into the list\n",
    "Data_ROP = [19.6,25.6,31.4,37.7,44.3,50.8] # insert the ROP data into the list\n",
    "\n",
    "\n",
    "#'(ROP_constant, Data_WOB, Data_ROP, Db, RPM, UCS, NOC, BR, Dc)'\n",
    "case2_FullBit = Full_bit(0.9, Data_WOB, Data_ROP, 3.75, 150, 21500, 12, 20, 0.5)\n",
    "#case2_FullBit.Calculate_fitness(w)"
   ]
  },
  {
   "cell_type": "markdown",
   "metadata": {},
   "source": [
    "### Data for case3_FullBit = error function_SWG_4B_200"
   ]
  },
  {
   "cell_type": "code",
   "execution_count": 17,
   "metadata": {},
   "outputs": [],
   "source": [
    "'''Data_WOB = [2280,2380,2570,2810,3070,3310,3540,3820,4080] # insert the WOB data into the list\n",
    "Data_ROP = [11.4,12.5,14.9,18.2,22.9,27.7,34.8,43,50] # insert the ROP data into the list'''\n",
    "Data_WOB = [2810,3070,3310,3540,3820,4080] # insert the WOB data into the list\n",
    "Data_ROP = [18.2,22.9,27.7,34.8,43,50] # insert the ROP data into the list\n",
    "\n",
    "\n",
    "#'(ROP_constant, Data_WOB, Data_ROP, Db, RPM, UCS, NOC, BR, Dc)'\n",
    "case3_FullBit = Full_bit(0.9, Data_WOB, Data_ROP, 3.75, 200, 21500, 12, 20, 0.5)\n",
    "#case3_FullBit.Calculate_fitness(w)"
   ]
  },
  {
   "cell_type": "markdown",
   "metadata": {},
   "source": [
    "### Data for case4_FullBit = error function_BSS_4B_100"
   ]
  },
  {
   "cell_type": "code",
   "execution_count": 18,
   "metadata": {},
   "outputs": [],
   "source": [
    "Data_WOB = [900,1180,1230,1360,1510,1650,1730,1780] # insert the WOB data into the list\n",
    "Data_ROP = [24.8,48.9,53.4,54,62,70.8,81.3,84.1] # insert the ROP data into the list\n",
    "\n",
    "#'(ROP_constant, Data_WOB, Data_ROP, Db, RPM, UCS, NOC, BR, Dc)'\n",
    "case4_FullBit = Full_bit(0.9, Data_WOB, Data_ROP, 3.75, 100, 7100, 12, 20, 0.5)\n",
    "#case4_FullBit.Calculate_fitness(w)"
   ]
  },
  {
   "cell_type": "markdown",
   "metadata": {},
   "source": [
    "### Data for case5_FullBit = error function_BSS_4B_150"
   ]
  },
  {
   "cell_type": "code",
   "execution_count": 19,
   "metadata": {},
   "outputs": [],
   "source": [
    "Data_WOB = [970,1090,1110,1300,1520,1720,1770,1960] # insert the WOB data into the list\n",
    "Data_ROP = [40.8,61.9,64.5,71.7,91.5,102.9,106.9,127.7] # insert the ROP data into the list\n",
    "\n",
    "#'(ROP_constant, Data_WOB, Data_ROP, Db, RPM, UCS, NOC, BR, Dc)'\n",
    "case5_FullBit = Full_bit(0.9, Data_WOB, Data_ROP, 3.75, 150, 7100, 12, 20, 0.5)\n",
    "#case5_FullBit.Calculate_fitness(w)"
   ]
  },
  {
   "cell_type": "markdown",
   "metadata": {},
   "source": [
    "### Data for case6_FullBit = error function_BSS_4B_200"
   ]
  },
  {
   "cell_type": "code",
   "execution_count": 20,
   "metadata": {},
   "outputs": [],
   "source": [
    "Data_WOB = [850,960,1150,1210,1270,1340,1570,1800] # insert the WOB data into the list\n",
    "Data_ROP = [30.5,59.5,84.8,87.8,96.5,96.6,120.9,136] # insert the ROP data into the list\n",
    "\n",
    "#'(ROP_constant, Data_WOB, Data_ROP, Db, RPM, UCS, NOC, BR, Dc)'\n",
    "case6_FullBit = Full_bit(0.9, Data_WOB, Data_ROP, 3.75, 200, 7100, 12, 20, 0.5)\n",
    "#case6_FullBit.Calculate_fitness(w)"
   ]
  },
  {
   "cell_type": "markdown",
   "metadata": {},
   "source": [
    "# DEA"
   ]
  },
  {
   "cell_type": "code",
   "execution_count": 21,
   "metadata": {},
   "outputs": [],
   "source": [
    "def de(fobj, bounds, mut=0.8, crossp=0.7, popsize=100, its=10):\n",
    "    dimensions = len(bounds)\n",
    "    pop = np.random.rand(popsize, dimensions)\n",
    "    min_b, max_b = np.asarray(bounds).T\n",
    "    diff = np.fabs(min_b - max_b)\n",
    "    pop_denorm = min_b + pop * diff\n",
    "    fitness = np.asarray([fobj(ind) for ind in pop_denorm])\n",
    "    best_idx = np.argmin(fitness)\n",
    "    best = pop_denorm[best_idx]\n",
    "    for i in range(its):\n",
    "        for j in range(popsize):\n",
    "            idxs = [idx for idx in range(popsize) if idx != j]\n",
    "            a, b, c = pop[np.random.choice(idxs, 3, replace = False)]\n",
    "            mutant = np.clip(a + mut * (b - c), 0, 1)\n",
    "            cross_points = np.random.rand(dimensions) < crossp\n",
    "            if not np.any(cross_points):\n",
    "                cross_points[np.random.randint(0, dimensions)] = True\n",
    "            trial = np.where(cross_points, mutant, pop[j])\n",
    "            trial_denorm = min_b + trial * diff\n",
    "            f = fobj(trial_denorm)\n",
    "            if f < fitness[j]:\n",
    "                fitness[j] = f\n",
    "                pop[j] = trial\n",
    "                if f < fitness[best_idx]:\n",
    "                    best_idx = j\n",
    "                    best = trial_denorm\n",
    "        #print(\"Iteration number= %s\" % (i))\n",
    "        #print(\"Best Fitness= %s\" % (fitness[best_idx]))\n",
    "        #print(\"Best values= %s\" % (best))\n",
    "        yield best, fitness[best_idx]"
   ]
  },
  {
   "cell_type": "code",
   "execution_count": 22,
   "metadata": {},
   "outputs": [],
   "source": [
    "#Define objective function-min sq\n",
    "def ERROR(w):\n",
    "    #============================\n",
    "    w = w.tolist()\n",
    "    #============================\n",
    "    ERROR_value1 =\\\n",
    "    case1_FullBit.Calculate_fitness(w)+\\\n",
    "    case2_FullBit.Calculate_fitness(w)+\\\n",
    "    case3_FullBit.Calculate_fitness(w)\n",
    "    '''case4_FullBit.Calculate_fitness(w)+\\\n",
    "    case5_FullBit.Calculate_fitness(w)+\\\n",
    "    case6_FullBit.Calculate_fitness(w)'''\n",
    "    #============================\n",
    "    ERROR_value2 =\\\n",
    "    case1.Calculate_fitness(w)+\\\n",
    "    case2.Calculate_fitness(w)+\\\n",
    "    case3.Calculate_fitness(w)+\\\n",
    "    case4.Calculate_fitness(w)+\\\n",
    "    case5.Calculate_fitness(w)+\\\n",
    "    case6.Calculate_fitness(w)+\\\n",
    "    case7.Calculate_fitness(w)+\\\n",
    "    case8.Calculate_fitness(w)+\\\n",
    "    case9.Calculate_fitness(w)+\\\n",
    "    case10.Calculate_fitness(w)\n",
    "    \n",
    "    \n",
    "    #ERROR_value1 = ERROR_value1 / 6\n",
    "    \n",
    "    \n",
    "    \n",
    "    \n",
    "    a = case2.Calculate_fitness(w)+case3.Calculate_fitness(w)+case10.Calculate_fitness(w)\n",
    "    a = a / 3\n",
    "    b = case4.Calculate_fitness(w)+case5.Calculate_fitness(w)+case6.Calculate_fitness(w)+case7.Calculate_fitness(w)+case8.Calculate_fitness(w)+case9.Calculate_fitness(w)\n",
    "    b = b / 6\n",
    "    c = (a + b) / 2\n",
    "    ERROR_value2 = c\n",
    "    \n",
    "    \n",
    "    ERROR_value1 = ERROR_value1 / 3\n",
    "\n",
    "    #============================\n",
    "\n",
    "    \n",
    "    ERROR_value = (ERROR_value1 + ERROR_value2) / 2\n",
    "    #ERROR_value = ERROR_value2\n",
    "    #============================\n",
    "    ERROR_value = ERROR_value * 100\n",
    "    return (ERROR_value)"
   ]
  },
  {
   "cell_type": "markdown",
   "metadata": {},
   "source": [
    "# Parallel computing\n",
    "'''#Define objective function-min sq\n",
    "\n",
    "    def ERROR(w):\n",
    "\n",
    "    #============================\n",
    "    w = w.tolist()\n",
    "    #============================\n",
    "    with concurrent.futures.ProcessPoolExecutor() as executor:\n",
    "        \n",
    "        f1 = executor.submit(case1_FullBit.Calculate_fitness, w)\n",
    "        f2 = executor.submit(case2_FullBit.Calculate_fitness, w)\n",
    "        f3 = executor.submit(case3_FullBit.Calculate_fitness, w)\n",
    "        f4 = executor.submit(case4_FullBit.Calculate_fitness, w)\n",
    "        f5 = executor.submit(case5_FullBit.Calculate_fitness, w)\n",
    "        f6 = executor.submit(case6_FullBit.Calculate_fitness, w)\n",
    "        \n",
    "        f7 = executor.submit(case1.Calculate_fitness, w)\n",
    "        f8 = executor.submit(case2.Calculate_fitness, w)\n",
    "        f9 = executor.submit(case3.Calculate_fitness, w)\n",
    "        f10 = executor.submit(case4.Calculate_fitness, w)\n",
    "        f11 = executor.submit(case5.Calculate_fitness, w)\n",
    "        f12 = executor.submit(case6.Calculate_fitness, w)\n",
    "        f13 = executor.submit(case7.Calculate_fitness, w)\n",
    "        f14 = executor.submit(case8.Calculate_fitness, w)\n",
    "        f15 = executor.submit(case9.Calculate_fitness, w)\n",
    "        f16 = executor.submit(case10.Calculate_fitness, w)\n",
    "\n",
    "\n",
    "    ERROR_value1 =\\\n",
    "    f1.result()+\\\n",
    "    f2.result()+\\\n",
    "    f3.result()+\\\n",
    "    f4.result()+\\\n",
    "    f5.result()+\\\n",
    "    f6.result()\n",
    "\n",
    "    #============================\n",
    "    ERROR_value2 =\\\n",
    "    f7.result()+\\\n",
    "    f8.result()+\\\n",
    "    f9.result()+\\\n",
    "    f10.result()+\\\n",
    "    f11.result()+\\\n",
    "    f12.result()+\\\n",
    "    f13.result()+\\\n",
    "    f14.result()+\\\n",
    "    f15.result()+\\\n",
    "    f16.result()\n",
    "\n",
    "    #============================\n",
    "    ERROR_value = (ERROR_value1/6 + ERROR_value2/10)/2\n",
    "    #============================\n",
    "    #print(ERROR_value1/ERROR_value2)\n",
    "    #print(ERROR_value2)\n",
    "\n",
    "    return (ERROR_value)'''\n"
   ]
  },
  {
   "cell_type": "code",
   "execution_count": 23,
   "metadata": {},
   "outputs": [
    {
     "name": "stdout",
     "output_type": "stream",
     "text": [
      "--- 241.50240349769592 seconds ---\n"
     ]
    }
   ],
   "source": [
    "start_time = time.time()\n",
    "#Apply the DE algorithm to the function + boundries and number of iterations\n",
    "result = list(de(ERROR, [(0, 150),(-150, 150),(0.5, 2),(0, 100),\\\n",
    "                         (0, 150),(-150, 150),(0.5, 2),(0, 100),\\\n",
    "                         (0, 2),\\\n",
    "                         (0, 150),(-150, 150),(0.5, 3),(0, 100)], mut=0.8, crossp=0.7, popsize=15, its=500))\n",
    "\n",
    "df = pd.DataFrame(result)\n",
    "print(\"--- %s seconds ---\" % (time.time() - start_time))"
   ]
  },
  {
   "cell_type": "code",
   "execution_count": 24,
   "metadata": {},
   "outputs": [
    {
     "name": "stdout",
     "output_type": "stream",
     "text": [
      "                                                     0          1\n",
      "499  [72.09276130476627, -119.26178339776968, 0.974...  13.918767\n"
     ]
    }
   ],
   "source": [
    "print(df.tail(1))"
   ]
  },
  {
   "cell_type": "code",
   "execution_count": 25,
   "metadata": {},
   "outputs": [
    {
     "name": "stdout",
     "output_type": "stream",
     "text": [
      "[(72.09276130476627,), (-119.26178339776968,), (0.9740713026067556,), (2.374242986705864,), (150.0,), (150.0,), (0.9462469606257013,), (80.0,), (0.0,), (0.0,), (61.203380910903206,), (0.8811215527120759,), (0.0,)]\n"
     ]
    }
   ],
   "source": [
    "df['w1'], df['w2'],df['w3'], df['w4'], df['w5'],\\\n",
    "df['w6'], df['w7'],df['w8'], df['w9'], df['w10'],\\\n",
    "df['w11'], df['w12'], df['w13']= zip(*df[0])\n",
    "cols = [0]\n",
    "df.drop(df.columns[cols],axis=1,inplace=True)\n",
    "df.columns.values[0] = \"Fitness\"\n",
    "best_coff = list(zip(df.iloc[len(df)-1,1:]))\n",
    "print(best_coff)"
   ]
  },
  {
   "cell_type": "code",
   "execution_count": 26,
   "metadata": {},
   "outputs": [
    {
     "name": "stderr",
     "output_type": "stream",
     "text": [
      "findfont: Font family ['normal'] not found. Falling back to DejaVu Sans.\n",
      "findfont: Font family ['normal'] not found. Falling back to DejaVu Sans.\n"
     ]
    },
    {
     "data": {
      "image/png": "[encoded data removed]",
      "text/plain": [
       "<Figure size 1512x1728 with 14 Axes>"
      ]
     },
     "metadata": {
      "needs_background": "light"
     },
     "output_type": "display_data"
    }
   ],
   "source": [
    "data_ncol=len(df.columns)\n",
    "#Plot fitness versus iteration\n",
    "fig = plt.figure(figsize=(21,24))\n",
    "font = {'family' : 'normal',\n",
    "        'size'   : 10}\n",
    "matplotlib.rc('font', **font)\n",
    "\n",
    "for i in range(1,(data_ncol+1)):\n",
    "    if i<data_ncol:\n",
    "\n",
    "        plt.subplot(5, 3, i)\n",
    "        plt.plot(df['w{}'.format(i)],'bo', markersize=4)\n",
    "        plt.xlabel('Iteration', fontsize=18)\n",
    "        plt.ylabel('w{}'.format(i), fontsize=18)\n",
    "        plt.grid(True)\n",
    "    else:       \n",
    "\n",
    "        plt.subplot(5, 3, data_ncol)\n",
    "        plt.plot(df['Fitness'],'red', markersize=4)\n",
    "        plt.xlabel('Iteration', fontsize=18)\n",
    "        plt.ylabel('Averaged Absolute \\ndifference Error %', fontsize=18)\n",
    "        plt.grid(True)\n",
    "plt.show()"
   ]
  }
 ],
 "metadata": {
  "kernelspec": {
   "display_name": "Python 3",
   "language": "python",
   "name": "python3"
  },
  "language_info": {
   "codemirror_mode": {
    "name": "ipython",
    "version": 3
   },
   "file_extension": ".py",
   "mimetype": "text/x-python",
   "name": "python",
   "nbconvert_exporter": "python",
   "pygments_lexer": "ipython3",
   "version": "3.7.3"
  }
 },
 "nbformat": 4,
 "nbformat_minor": 1
}
